{
 "cells": [
  {
   "cell_type": "code",
   "execution_count": 21,
   "metadata": {},
   "outputs": [
    {
     "name": "stdout",
     "output_type": "stream",
     "text": [
      "Nicholas Alexander\n",
      "https://picsum.photos/500/500\n",
      "rcabrera@example.com\n",
      "QiQ3StZd_)\n",
      "Wilson, Price and Luna\n",
      "7726 Tucker Crossroad Suite 171\n",
      "Bishopbury, TX 08147\n",
      "Caprese Salad\n",
      "Process green better do goal reveal. Several organization onto task.\n",
      "1975-11-01\n",
      "Amchur\n",
      "Smoked salmon, poached eggs, diced red onions and Hollandaise sauce on an English muffin. With a side of roasted potatoes.\n"
     ]
    }
   ],
   "source": [
    "from faker import Faker\n",
    "from faker_food import FoodProvider\n",
    "\n",
    "fake = Faker()\n",
    "fake.add_provider(FoodProvider)\n",
    "\n",
    "\n",
    "print(fake.name())\n",
    "print(fake.image_url(width=500, height=500))\n",
    "print(fake.email())\n",
    "print(fake.password())\n",
    "print(fake.company())\n",
    "print(fake.address())\n",
    "print(fake.dish())\n",
    "print(fake.text())\n",
    "print(fake.date())\n",
    "\n",
    "# https://loremflickr.com/500/500/meal\n",
    "\n",
    "# print(fake.dish())\n",
    "print(fake.ingredient())\n",
    "print(fake.dish_description())"
   ]
  }
 ],
 "metadata": {
  "kernelspec": {
   "display_name": "backend-JhJLiRC7",
   "language": "python",
   "name": "python3"
  },
  "language_info": {
   "codemirror_mode": {
    "name": "ipython",
    "version": 3
   },
   "file_extension": ".py",
   "mimetype": "text/x-python",
   "name": "python",
   "nbconvert_exporter": "python",
   "pygments_lexer": "ipython3",
   "version": "3.11.2"
  },
  "orig_nbformat": 4
 },
 "nbformat": 4,
 "nbformat_minor": 2
}
