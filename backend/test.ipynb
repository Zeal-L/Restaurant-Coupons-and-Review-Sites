{
 "cells": [
  {
   "cell_type": "code",
   "execution_count": 3,
   "metadata": {},
   "outputs": [
    {
     "name": "stdout",
     "output_type": "stream",
     "text": [
      "Jenna Smith\n",
      "https://placekitten.com/500/500\n",
      "lisa12@example.com\n",
      "%w26aJXEN)\n"
     ]
    }
   ],
   "source": [
    "from faker import Faker\n",
    "from faker_food import FoodProvider\n",
    "\n",
    "fake = Faker()\n",
    "fake.add_provider(FoodProvider)\n",
    "\n",
    "\n",
    "print(fake.name())\n",
    "print(fake.image_url(width=500, height=500))\n",
    "print(fake.email())\n",
    "print(fake.password())\n",
    "\n",
    "\n",
    "# https://loremflickr.com/500/500/meal\n",
    "\n",
    "# print(fake.dish())\n",
    "# print(fake.ingredient())\n",
    "# print(fake.dish_description())"
   ]
  }
 ],
 "metadata": {
  "kernelspec": {
   "display_name": "backend-JhJLiRC7",
   "language": "python",
   "name": "python3"
  },
  "language_info": {
   "codemirror_mode": {
    "name": "ipython",
    "version": 3
   },
   "file_extension": ".py",
   "mimetype": "text/x-python",
   "name": "python",
   "nbconvert_exporter": "python",
   "pygments_lexer": "ipython3",
   "version": "3.11.2"
  },
  "orig_nbformat": 4
 },
 "nbformat": 4,
 "nbformat_minor": 2
}
