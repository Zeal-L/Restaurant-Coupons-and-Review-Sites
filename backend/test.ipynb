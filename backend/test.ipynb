{
 "cells": [
  {
   "cell_type": "code",
   "execution_count": 4,
   "metadata": {},
   "outputs": [
    {
     "name": "stdout",
     "output_type": "stream",
     "text": [
      "Charles Bryan\n",
      "https://dummyimage.com/500x500\n",
      "melendezpaul@example.com\n",
      "^S6jRnqh@+\n",
      "Stewart-Soto\n",
      "12854 Evelyn Stream Suite 455\n",
      "Deannaville, UT 93433\n",
      "Scotch eggs\n"
     ]
    }
   ],
   "source": [
    "from faker import Faker\n",
    "from faker_food import FoodProvider\n",
    "\n",
    "fake = Faker()\n",
    "fake.add_provider(FoodProvider)\n",
    "\n",
    "\n",
    "print(fake.name())\n",
    "print(fake.image_url(width=500, height=500))\n",
    "print(fake.email())\n",
    "print(fake.password())\n",
    "print(fake.company())\n",
    "print(fake.address())\n",
    "print(fake.dish())\n",
    "\n",
    "# https://loremflickr.com/500/500/meal\n",
    "\n",
    "# print(fake.dish())\n",
    "# print(fake.ingredient())\n",
    "# print(fake.dish_description())"
   ]
  }
 ],
 "metadata": {
  "kernelspec": {
   "display_name": "backend-JhJLiRC7",
   "language": "python",
   "name": "python3"
  },
  "language_info": {
   "codemirror_mode": {
    "name": "ipython",
    "version": 3
   },
   "file_extension": ".py",
   "mimetype": "text/x-python",
   "name": "python",
   "nbconvert_exporter": "python",
   "pygments_lexer": "ipython3",
   "version": "3.11.2"
  },
  "orig_nbformat": 4
 },
 "nbformat": 4,
 "nbformat_minor": 2
}
